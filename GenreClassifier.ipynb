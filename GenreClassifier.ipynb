{
 "cells": [
  {
   "cell_type": "code",
   "execution_count": 1,
   "id": "f1a59beb",
   "metadata": {},
   "outputs": [
    {
     "name": "stdout",
     "output_type": "stream",
     "text": [
      "Requirement already satisfied: numpy in c:\\users\\cameron\\documents\\github\\borocilis-wrapped-data\\venv\\lib\\site-packages (2.0.2)Note: you may need to restart the kernel to use updated packages.\n",
      "\n",
      "Requirement already satisfied: pandas in c:\\users\\cameron\\documents\\github\\borocilis-wrapped-data\\venv\\lib\\site-packages (2.2.3)Note: you may need to restart the kernel to use updated packages.\n",
      "\n",
      "Requirement already satisfied: numpy>=1.26.0 in c:\\users\\cameron\\documents\\github\\borocilis-wrapped-data\\venv\\lib\\site-packages (from pandas) (2.0.2)\n",
      "Requirement already satisfied: python-dateutil>=2.8.2 in c:\\users\\cameron\\documents\\github\\borocilis-wrapped-data\\venv\\lib\\site-packages (from pandas) (2.9.0.post0)\n",
      "Requirement already satisfied: pytz>=2020.1 in c:\\users\\cameron\\documents\\github\\borocilis-wrapped-data\\venv\\lib\\site-packages (from pandas) (2024.2)\n",
      "Requirement already satisfied: tzdata>=2022.7 in c:\\users\\cameron\\documents\\github\\borocilis-wrapped-data\\venv\\lib\\site-packages (from pandas) (2024.2)\n",
      "Requirement already satisfied: six>=1.5 in c:\\users\\cameron\\documents\\github\\borocilis-wrapped-data\\venv\\lib\\site-packages (from python-dateutil>=2.8.2->pandas) (1.17.0)\n",
      "Requirement already satisfied: scikit-learn in c:\\users\\cameron\\documents\\github\\borocilis-wrapped-data\\venv\\lib\\site-packages (1.6.0)\n",
      "Requirement already satisfied: numpy>=1.19.5 in c:\\users\\cameron\\documents\\github\\borocilis-wrapped-data\\venv\\lib\\site-packages (from scikit-learn) (2.0.2)\n",
      "Requirement already satisfied: scipy>=1.6.0 in c:\\users\\cameron\\documents\\github\\borocilis-wrapped-data\\venv\\lib\\site-packages (from scikit-learn) (1.14.1)\n",
      "Requirement already satisfied: joblib>=1.2.0 in c:\\users\\cameron\\documents\\github\\borocilis-wrapped-data\\venv\\lib\\site-packages (from scikit-learn) (1.4.2)\n",
      "Requirement already satisfied: threadpoolctl>=3.1.0 in c:\\users\\cameron\\documents\\github\\borocilis-wrapped-data\\venv\\lib\\site-packages (from scikit-learn) (3.5.0)\n",
      "Note: you may need to restart the kernel to use updated packages.\n",
      "Requirement already satisfied: librosa in c:\\users\\cameron\\documents\\github\\borocilis-wrapped-data\\venv\\lib\\site-packages (0.10.2.post1)\n",
      "Requirement already satisfied: audioread>=2.1.9 in c:\\users\\cameron\\documents\\github\\borocilis-wrapped-data\\venv\\lib\\site-packages (from librosa) (3.0.1)\n",
      "Requirement already satisfied: numpy!=1.22.0,!=1.22.1,!=1.22.2,>=1.20.3 in c:\\users\\cameron\\documents\\github\\borocilis-wrapped-data\\venv\\lib\\site-packages (from librosa) (2.0.2)\n",
      "Requirement already satisfied: scipy>=1.2.0 in c:\\users\\cameron\\documents\\github\\borocilis-wrapped-data\\venv\\lib\\site-packages (from librosa) (1.14.1)\n",
      "Requirement already satisfied: scikit-learn>=0.20.0 in c:\\users\\cameron\\documents\\github\\borocilis-wrapped-data\\venv\\lib\\site-packages (from librosa) (1.6.0)\n",
      "Requirement already satisfied: joblib>=0.14 in c:\\users\\cameron\\documents\\github\\borocilis-wrapped-data\\venv\\lib\\site-packages (from librosa) (1.4.2)\n",
      "Requirement already satisfied: decorator>=4.3.0 in c:\\users\\cameron\\documents\\github\\borocilis-wrapped-data\\venv\\lib\\site-packages (from librosa) (5.1.1)\n",
      "Requirement already satisfied: numba>=0.51.0 in c:\\users\\cameron\\documents\\github\\borocilis-wrapped-data\\venv\\lib\\site-packages (from librosa) (0.60.0)\n",
      "Requirement already satisfied: soundfile>=0.12.1 in c:\\users\\cameron\\documents\\github\\borocilis-wrapped-data\\venv\\lib\\site-packages (from librosa) (0.12.1)\n",
      "Requirement already satisfied: pooch>=1.1 in c:\\users\\cameron\\documents\\github\\borocilis-wrapped-data\\venv\\lib\\site-packages (from librosa) (1.8.2)\n",
      "Requirement already satisfied: soxr>=0.3.2 in c:\\users\\cameron\\documents\\github\\borocilis-wrapped-data\\venv\\lib\\site-packages (from librosa) (0.5.0.post1)\n",
      "Requirement already satisfied: typing-extensions>=4.1.1 in c:\\users\\cameron\\documents\\github\\borocilis-wrapped-data\\venv\\lib\\site-packages (from librosa) (4.12.2)\n",
      "Requirement already satisfied: lazy-loader>=0.1 in c:\\users\\cameron\\documents\\github\\borocilis-wrapped-data\\venv\\lib\\site-packages (from librosa) (0.4)\n",
      "Requirement already satisfied: msgpack>=1.0 in c:\\users\\cameron\\documents\\github\\borocilis-wrapped-data\\venv\\lib\\site-packages (from librosa) (1.1.0)\n",
      "Requirement already satisfied: packaging in c:\\users\\cameron\\documents\\github\\borocilis-wrapped-data\\venv\\lib\\site-packages (from lazy-loader>=0.1->librosa) (24.2)\n",
      "Requirement already satisfied: llvmlite<0.44,>=0.43.0dev0 in c:\\users\\cameron\\documents\\github\\borocilis-wrapped-data\\venv\\lib\\site-packages (from numba>=0.51.0->librosa) (0.43.0)\n",
      "Requirement already satisfied: platformdirs>=2.5.0 in c:\\users\\cameron\\documents\\github\\borocilis-wrapped-data\\venv\\lib\\site-packages (from pooch>=1.1->librosa) (4.3.6)\n",
      "Requirement already satisfied: requests>=2.19.0 in c:\\users\\cameron\\documents\\github\\borocilis-wrapped-data\\venv\\lib\\site-packages (from pooch>=1.1->librosa) (2.32.3)\n",
      "Requirement already satisfied: threadpoolctl>=3.1.0 in c:\\users\\cameron\\documents\\github\\borocilis-wrapped-data\\venv\\lib\\site-packages (from scikit-learn>=0.20.0->librosa) (3.5.0)\n",
      "Requirement already satisfied: cffi>=1.0 in c:\\users\\cameron\\documents\\github\\borocilis-wrapped-data\\venv\\lib\\site-packages (from soundfile>=0.12.1->librosa) (1.17.1)\n",
      "Requirement already satisfied: pycparser in c:\\users\\cameron\\documents\\github\\borocilis-wrapped-data\\venv\\lib\\site-packages (from cffi>=1.0->soundfile>=0.12.1->librosa) (2.22)\n",
      "Requirement already satisfied: charset-normalizer<4,>=2 in c:\\users\\cameron\\documents\\github\\borocilis-wrapped-data\\venv\\lib\\site-packages (from requests>=2.19.0->pooch>=1.1->librosa) (3.4.0)\n",
      "Requirement already satisfied: idna<4,>=2.5 in c:\\users\\cameron\\documents\\github\\borocilis-wrapped-data\\venv\\lib\\site-packages (from requests>=2.19.0->pooch>=1.1->librosa) (3.10)\n",
      "Requirement already satisfied: urllib3<3,>=1.21.1 in c:\\users\\cameron\\documents\\github\\borocilis-wrapped-data\\venv\\lib\\site-packages (from requests>=2.19.0->pooch>=1.1->librosa) (2.2.3)\n",
      "Requirement already satisfied: certifi>=2017.4.17 in c:\\users\\cameron\\documents\\github\\borocilis-wrapped-data\\venv\\lib\\site-packages (from requests>=2.19.0->pooch>=1.1->librosa) (2024.12.14)\n",
      "Note: you may need to restart the kernel to use updated packages.\n",
      "Looking in indexes: https://download.pytorch.org/whl/cu124\n",
      "Requirement already satisfied: torch in c:\\users\\cameron\\documents\\github\\borocilis-wrapped-data\\venv\\lib\\site-packages (2.5.1+cu124)\n",
      "Requirement already satisfied: torchvision in c:\\users\\cameron\\documents\\github\\borocilis-wrapped-data\\venv\\lib\\site-packages (0.20.1+cu124)\n",
      "Requirement already satisfied: torchaudio in c:\\users\\cameron\\documents\\github\\borocilis-wrapped-data\\venv\\lib\\site-packages (2.5.1+cu124)\n",
      "Requirement already satisfied: filelock in c:\\users\\cameron\\documents\\github\\borocilis-wrapped-data\\venv\\lib\\site-packages (from torch) (3.13.1)\n",
      "Requirement already satisfied: typing-extensions>=4.8.0 in c:\\users\\cameron\\documents\\github\\borocilis-wrapped-data\\venv\\lib\\site-packages (from torch) (4.12.2)\n",
      "Requirement already satisfied: networkx in c:\\users\\cameron\\documents\\github\\borocilis-wrapped-data\\venv\\lib\\site-packages (from torch) (3.2.1)\n",
      "Requirement already satisfied: jinja2 in c:\\users\\cameron\\documents\\github\\borocilis-wrapped-data\\venv\\lib\\site-packages (from torch) (3.1.3)\n",
      "Requirement already satisfied: fsspec in c:\\users\\cameron\\documents\\github\\borocilis-wrapped-data\\venv\\lib\\site-packages (from torch) (2024.2.0)\n",
      "Requirement already satisfied: setuptools in c:\\users\\cameron\\documents\\github\\borocilis-wrapped-data\\venv\\lib\\site-packages (from torch) (70.0.0)\n",
      "Requirement already satisfied: sympy==1.13.1 in c:\\users\\cameron\\documents\\github\\borocilis-wrapped-data\\venv\\lib\\site-packages (from torch) (1.13.1)\n",
      "Requirement already satisfied: mpmath<1.4,>=1.1.0 in c:\\users\\cameron\\documents\\github\\borocilis-wrapped-data\\venv\\lib\\site-packages (from sympy==1.13.1->torch) (1.3.0)\n",
      "Requirement already satisfied: numpy in c:\\users\\cameron\\documents\\github\\borocilis-wrapped-data\\venv\\lib\\site-packages (from torchvision) (2.0.2)\n",
      "Requirement already satisfied: pillow!=8.3.*,>=5.3.0 in c:\\users\\cameron\\documents\\github\\borocilis-wrapped-data\\venv\\lib\\site-packages (from torchvision) (11.0.0)\n",
      "Requirement already satisfied: MarkupSafe>=2.0 in c:\\users\\cameron\\documents\\github\\borocilis-wrapped-data\\venv\\lib\\site-packages (from jinja2->torch) (2.1.5)\n",
      "Note: you may need to restart the kernel to use updated packages.\n"
     ]
    }
   ],
   "source": [
    "%pip install numpy\n",
    "%pip install pandas\n",
    "%pip install scikit-learn\n",
    "%pip install librosa\n",
    "%pip install torch torchvision torchaudio --index-url https://download.pytorch.org/whl/cu124\n"
   ]
  },
  {
   "cell_type": "code",
   "execution_count": null,
   "id": "initial_id",
   "metadata": {
    "collapsed": true
   },
   "outputs": [],
   "source": [
    "import os\n",
    "import numpy as np\n",
    "import pandas as pd\n",
    "import torch\n",
    "import torch.nn as nn\n",
    "import torch.optim as optim\n",
    "from torch.utils.data import DataLoader, Dataset\n",
    "import torchaudio\n",
    "import librosa\n",
    "from sklearn.model_selection import train_test_split\n",
    "from sklearn.preprocessing import LabelEncoder"
   ]
  },
  {
   "cell_type": "code",
   "execution_count": null,
   "id": "127e3fbc",
   "metadata": {},
   "outputs": [],
   "source": [
    "# Data loading and pre processing\n",
    "def load_metadata(data_path):\n",
    "    tracks = pd.read_csv(os.path.join(data_path, 'tracks.csv'), index_col=0, header=[0, 1])\n",
    "    genres =  pd.read_csv(os.path.join(data_path, 'genres.csv'), index_col=0)\n",
    "    return tracks, genres\n",
    "\n",
    "def extract_features(audio_path, sr=22050, duration=30):\n",
    "    # Load and conert to mono\n",
    "    y, sr = librosa.load(audio_path, sr=sr, duration=duration, mono=True)\n",
    "\n",
    "    # Extract mel spectrogram\n",
    "    mel_spect = librosa.feature.melspectrogram(y=y, sr=sr, n_mels=128)\n",
    "    mel_spect_db = librosa.power_to_db(mel_spect, ref=np.max)\n",
    "\n",
    "    return mel_spect_db"
   ]
  },
  {
   "cell_type": "code",
   "execution_count": null,
   "id": "53247b7a",
   "metadata": {},
   "outputs": [],
   "source": [
    "class MusicDataset(Dataset):\n",
    "    def __init__(self, audio_paths, labels, transform=None):\n",
    "        self.audio_paths = audio_paths\n",
    "        self.labels = labels\n",
    "        self.transform = transform\n",
    "\n",
    "    def __len__(self):\n",
    "        return len(self.audio_paths)\n",
    "    \n",
    "    def __getitem__(self, idx):\n",
    "        audio_path = self.audio_paths[idx]\n",
    "        features = extract_features(audio_path)\n",
    "        features = torch.FloatTensor(features)\n",
    "\n",
    "        if self.transform:\n",
    "            features = self.transform(features)\n",
    "\n",
    "        return features, self.labels[idx]"
   ]
  },
  {
   "cell_type": "code",
   "execution_count": null,
   "id": "b6340fe0",
   "metadata": {},
   "outputs": [],
   "source": [
    "class MusicGenreClassifier(nn.Module):\n",
    "    def __init__(self, num_genres):\n",
    "        super(MusicGenreClassifier, self).__init__()\n",
    "\n",
    "        self.conv1 = nn.Sequential(\n",
    "            \n",
    "        )"
   ]
  }
 ],
 "metadata": {
  "kernelspec": {
   "display_name": "venv",
   "language": "python",
   "name": "python3"
  },
  "language_info": {
   "codemirror_mode": {
    "name": "ipython",
    "version": 3
   },
   "file_extension": ".py",
   "mimetype": "text/x-python",
   "name": "python",
   "nbconvert_exporter": "python",
   "pygments_lexer": "ipython3",
   "version": "3.12.6"
  }
 },
 "nbformat": 4,
 "nbformat_minor": 5
}
